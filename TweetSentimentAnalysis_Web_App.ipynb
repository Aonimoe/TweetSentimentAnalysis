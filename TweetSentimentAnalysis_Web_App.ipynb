{
 "cells": [
  {
   "cell_type": "code",
   "execution_count": 4,
   "metadata": {},
   "outputs": [],
   "source": [
    "# loading libraries\n",
    "import streamlit as st\n",
    "import numpy as np\n",
    "import string\n",
    "import pickle\n",
    "\n",
    "model = pickle.load(open('NLP_sentiment_analysis_model', 'rb'))\n",
    "\n",
    "\n",
    "def main():\n",
    "  st.markdown(\"<h1 style='text-align: center; color: White;background-color:#e84343'>Tweet Sentiment Predictor</h1>\", unsafe_allow_html=True)\n",
    "  st.markdown(\"<h3 style='text-align: center; color: Black;'>Drop in The required Inputs and we will do  the rest.</h3>\", unsafe_allow_html=True)\n",
    "  st.sidebar.header(\"What is this Project about?\")\n",
    "  st.sidebar.text(\"It a Web app that would help the user determine the sentiment in a word, whether negative or positve\")\n",
    "  st.sidebar.header(\"What tools where used to make this?\")\n",
    "  st.sidebar.text(\"The Model was made using a dataset from Coursera along with using Jupyter notebooks to train the model. We made use of Sci-Kit learn in order to make our Naive Bayes Model.\")\n",
    "\n",
    "  \n",
    "  text = st.text_input(\"Enter Text\")  \n",
    "\n",
    "  inputs = [[text]]  \n",
    "\n",
    "  if st.button('Predict'):  # making and printing our prediction\n",
    "      result = model.predict(text)\n",
    "      updated_res = result.flatten().astype(float)\n",
    "      st.success('The inputted text is'.format(updated_res))\n",
    "\n",
    "\n",
    "if __name__ == '__main__':\n",
    "    main()  "
   ]
  },
  {
   "cell_type": "code",
   "execution_count": null,
   "metadata": {},
   "outputs": [],
   "source": []
  }
 ],
 "metadata": {
  "kernelspec": {
   "display_name": "Python 3",
   "language": "python",
   "name": "python3"
  },
  "language_info": {
   "codemirror_mode": {
    "name": "ipython",
    "version": 3
   },
   "file_extension": ".py",
   "mimetype": "text/x-python",
   "name": "python",
   "nbconvert_exporter": "python",
   "pygments_lexer": "ipython3",
   "version": "3.8.5"
  }
 },
 "nbformat": 4,
 "nbformat_minor": 4
}
